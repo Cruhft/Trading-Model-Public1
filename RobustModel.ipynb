{
 "cells": [
  {
   "cell_type": "code",
   "execution_count": 1,
   "metadata": {},
   "outputs": [],
   "source": [
    "import yfinance as yf\n",
    "import pandas as pd\n",
    "import numpy as np\n",
    "\n",
    "\n",
    "\n",
    "\n",
    "\n",
    "\n",
    "# Enter the ticker\n",
    "#**Create list of stocks**\n",
    "ticker = 'NINE'\n",
    "\n",
    "\n",
    "# Moving Average Trigger Calculation\n",
    "\n",
    "ma_stock_data = yf.Ticker(ticker).history(period='1y')\n",
    "ma_50 = ma_stock_data['Close'].rolling(window=50).mean()\n",
    "ma_200 = ma_stock_data['Close'].rolling(window=200).mean()\n",
    "ma_results = []\n",
    "for i in range(1, len(ma_stock_data)):\n",
    "  \n",
    "  if ma_50[i] > ma_200[i]:\n",
    "    \n",
    "    ma_results.append({'Date': ma_stock_data.index[i], 'MA_Trigger': 'buy'})\n",
    "  \n",
    "  elif ma_50[i] < ma_200[i]:\n",
    "    \n",
    "    ma_results.append({'Date': ma_stock_data.index[i], 'MA_Trigger': 'sell'})\n",
    "ma_results_df = pd.DataFrame(ma_results)\n",
    "\n",
    "\n",
    "\n",
    "\n",
    "\n",
    "# RSI Trigger Calculation\n",
    "rsi_stock_data = yf.Ticker(ticker).history(period='14d')\n",
    "rsi_stock_data['diff'] = rsi_stock_data['Close'].diff()\n",
    "rsi_stock_data['pos_diff'] = np.where(rsi_stock_data['diff'] > 0, rsi_stock_data['diff'], 0)\n",
    "rsi_stock_data['neg_diff'] = np.where(rsi_stock_data['diff'] < 0, abs(rsi_stock_data['diff']), 0)\n",
    "rsi_stock_data['pos_ema'] = rsi_stock_data['pos_diff'].ewm(span=14).mean()\n",
    "rsi_stock_data['neg_ema'] = rsi_stock_data['neg_diff'].ewm(span=14).mean()\n",
    "rsi_stock_data['rs'] = rsi_stock_data['pos_ema'] / rsi_stock_data['neg_ema']\n",
    "rsi_stock_data['rsi'] = 100 - (100 / (1 + rsi_stock_data['rs']))\n",
    "rsi = rsi_stock_data['rsi']\n",
    "\n",
    "rsi_results = []\n",
    "for i in range(1, len(rsi_stock_data)):\n",
    "  \n",
    "  if rsi[i] < 30:\n",
    "    \n",
    "    rsi_results.append({'Date': rsi_stock_data.index[i], 'RSI_Trigger': 'buy'})\n",
    "  \n",
    "  elif rsi[i] > 70:\n",
    "    \n",
    "    rsi_results.append({'Date': rsi_stock_data.index[i], 'RSI_Trigger': 'sell'})\n",
    "rsi_results_df = pd.DataFrame(rsi_results)\n",
    "\n",
    "\n",
    "\n",
    "# Individual indicator results are grouped here\n",
    "full_model_df = pd.concat([ma_results_df, rsi_results_df], axis=1, join='outer')\n",
    "full_model_df.to_csv(r'/Users/zacharycraft/Desktop/Trading_Model/Current Version/RSI_MA.csv', index=False)\n",
    "\n",
    "\n",
    "\n",
    "\n",
    "\n",
    "\n",
    "\n"
   ]
  }
 ],
 "metadata": {
  "kernelspec": {
   "display_name": "Python 3",
   "language": "python",
   "name": "python3"
  },
  "language_info": {
   "codemirror_mode": {
    "name": "ipython",
    "version": 3
   },
   "file_extension": ".py",
   "mimetype": "text/x-python",
   "name": "python",
   "nbconvert_exporter": "python",
   "pygments_lexer": "ipython3",
   "version": "3.9.6"
  },
  "orig_nbformat": 4,
  "vscode": {
   "interpreter": {
    "hash": "31f2aee4e71d21fbe5cf8b01ff0e069b9275f58929596ceb00d14d90e3e16cd6"
   }
  }
 },
 "nbformat": 4,
 "nbformat_minor": 2
}
